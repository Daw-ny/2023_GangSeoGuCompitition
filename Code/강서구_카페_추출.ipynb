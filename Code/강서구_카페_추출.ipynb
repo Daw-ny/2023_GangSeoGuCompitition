{
 "cells": [
  {
   "cell_type": "code",
   "execution_count": 1,
   "id": "aaf3d4c9",
   "metadata": {},
   "outputs": [],
   "source": [
    "# module\n",
    "import numpy as np\n",
    "import pandas as pd\n",
    "import tqdm\n",
    "from haversine import haversine\n",
    "from tqdm import tqdm_pandas, tqdm"
   ]
  },
  {
   "cell_type": "code",
   "execution_count": 4,
   "id": "f1ff14c9",
   "metadata": {},
   "outputs": [],
   "source": [
    "#load data\n",
    "cw = pd.read_csv('횡단보도_완료.csv')\n",
    "cafe = pd.read_csv('서울강서구_카페현황.csv')"
   ]
  },
  {
   "cell_type": "code",
   "execution_count": 6,
   "id": "c73be7da",
   "metadata": {},
   "outputs": [],
   "source": [
    "cafe = cafe[['업소명', 'Latitude', 'Longitude', '영업장면적']]"
   ]
  },
  {
   "cell_type": "code",
   "execution_count": 10,
   "id": "c2d61509",
   "metadata": {},
   "outputs": [],
   "source": [
    "# 차 사고\n",
    "cw.columns = ['crosswalk_id', 'cw_lon', 'cw_lat']\n",
    "\n",
    "# 횡단보도\n",
    "cafe.columns = ['cafe', 'cafe_lat', 'cafe_lon', 'cafe_area']"
   ]
  },
  {
   "cell_type": "code",
   "execution_count": 11,
   "id": "9ffc69bf",
   "metadata": {},
   "outputs": [
    {
     "name": "stderr",
     "output_type": "stream",
     "text": [
      "C:\\Users\\abc\\anaconda3\\envs\\please\\lib\\site-packages\\ipykernel_launcher.py:3: SettingWithCopyWarning: \n",
      "A value is trying to be set on a copy of a slice from a DataFrame.\n",
      "Try using .loc[row_indexer,col_indexer] = value instead\n",
      "\n",
      "See the caveats in the documentation: https://pandas.pydata.org/pandas-docs/stable/user_guide/indexing.html#returning-a-view-versus-a-copy\n",
      "  This is separate from the ipykernel package so we can avoid doing imports until\n"
     ]
    }
   ],
   "source": [
    "# key 만들기\n",
    "cw['key'] = 0\n",
    "cafe['key'] = 0"
   ]
  },
  {
   "cell_type": "code",
   "execution_count": 12,
   "id": "28431194",
   "metadata": {},
   "outputs": [],
   "source": [
    "# 데이터 합치기\n",
    "prod = pd.merge(cw, cafe, on = 'key', how = 'outer')"
   ]
  },
  {
   "cell_type": "code",
   "execution_count": 13,
   "id": "ade43b0c",
   "metadata": {},
   "outputs": [],
   "source": [
    "## 하버사인 거리\n",
    "lat1 = np.deg2rad(prod['cw_lat'])\n",
    "lat2 = np.deg2rad(prod['cafe_lat'])\n",
    "lon1 = np.deg2rad(prod['cw_lon'])\n",
    "lon2 = np.deg2rad(prod['cafe_lon'])\n",
    "dlat = lat2 - lat1 \n",
    "dlon = lon2 - lon1 \n",
    "a = np.sin(dlat/2)**2 + np.cos(lat1) * np.cos(lat2) * np.sin(dlon/2)**2\n",
    "c = 2 * np.arcsin(np.sqrt(a))"
   ]
  },
  {
   "cell_type": "code",
   "execution_count": 14,
   "id": "48702022",
   "metadata": {},
   "outputs": [],
   "source": [
    "# 미터거리 구하기\n",
    "prod['distance'] = c * 6371 * 1000"
   ]
  },
  {
   "cell_type": "code",
   "execution_count": 15,
   "id": "2c16acce",
   "metadata": {},
   "outputs": [
    {
     "data": {
      "text/plain": [
       "count    2.378508e+06\n",
       "mean     2.684216e+03\n",
       "std      1.533816e+03\n",
       "min      3.948935e+00\n",
       "25%      1.559579e+03\n",
       "50%      2.486173e+03\n",
       "75%      3.546023e+03\n",
       "max      1.873170e+04\n",
       "Name: distance, dtype: float64"
      ]
     },
     "execution_count": 15,
     "metadata": {},
     "output_type": "execute_result"
    }
   ],
   "source": [
    "# 상세한 확인\n",
    "prod['distance'].describe()"
   ]
  },
  {
   "cell_type": "code",
   "execution_count": 38,
   "id": "3cbd2b51",
   "metadata": {},
   "outputs": [
    {
     "data": {
      "text/html": [
       "<div>\n",
       "<style scoped>\n",
       "    .dataframe tbody tr th:only-of-type {\n",
       "        vertical-align: middle;\n",
       "    }\n",
       "\n",
       "    .dataframe tbody tr th {\n",
       "        vertical-align: top;\n",
       "    }\n",
       "\n",
       "    .dataframe thead th {\n",
       "        text-align: right;\n",
       "    }\n",
       "</style>\n",
       "<table border=\"1\" class=\"dataframe\">\n",
       "  <thead>\n",
       "    <tr style=\"text-align: right;\">\n",
       "      <th></th>\n",
       "      <th>cafe_count</th>\n",
       "    </tr>\n",
       "  </thead>\n",
       "  <tbody>\n",
       "    <tr>\n",
       "      <th>count</th>\n",
       "      <td>1513.000000</td>\n",
       "    </tr>\n",
       "    <tr>\n",
       "      <th>mean</th>\n",
       "      <td>3.007931</td>\n",
       "    </tr>\n",
       "    <tr>\n",
       "      <th>std</th>\n",
       "      <td>2.671115</td>\n",
       "    </tr>\n",
       "    <tr>\n",
       "      <th>min</th>\n",
       "      <td>1.000000</td>\n",
       "    </tr>\n",
       "    <tr>\n",
       "      <th>25%</th>\n",
       "      <td>1.000000</td>\n",
       "    </tr>\n",
       "    <tr>\n",
       "      <th>50%</th>\n",
       "      <td>2.000000</td>\n",
       "    </tr>\n",
       "    <tr>\n",
       "      <th>75%</th>\n",
       "      <td>4.000000</td>\n",
       "    </tr>\n",
       "    <tr>\n",
       "      <th>max</th>\n",
       "      <td>20.000000</td>\n",
       "    </tr>\n",
       "  </tbody>\n",
       "</table>\n",
       "</div>"
      ],
      "text/plain": [
       "        cafe_count\n",
       "count  1513.000000\n",
       "mean      3.007931\n",
       "std       2.671115\n",
       "min       1.000000\n",
       "25%       1.000000\n",
       "50%       2.000000\n",
       "75%       4.000000\n",
       "max      20.000000"
      ]
     },
     "execution_count": 38,
     "metadata": {},
     "output_type": "execute_result"
    }
   ],
   "source": [
    "p100 = prod[prod['distance'] <= 100]\n",
    "cw_cafe_100 = p100.groupby('crosswalk_id').count().reset_index().iloc[:,:2]\n",
    "cw_cafe_100.columns = ['crosswalk_id', 'cafe_count']\n",
    "cw_cafe_100.to_csv('횡단보도_100미터_카페.csv', index = False, encoding = 'cp949')\n",
    "cw_cafe_100.describe()"
   ]
  },
  {
   "cell_type": "code",
   "execution_count": 39,
   "id": "f0d1d048",
   "metadata": {},
   "outputs": [
    {
     "data": {
      "text/html": [
       "<div>\n",
       "<style scoped>\n",
       "    .dataframe tbody tr th:only-of-type {\n",
       "        vertical-align: middle;\n",
       "    }\n",
       "\n",
       "    .dataframe tbody tr th {\n",
       "        vertical-align: top;\n",
       "    }\n",
       "\n",
       "    .dataframe thead th {\n",
       "        text-align: right;\n",
       "    }\n",
       "</style>\n",
       "<table border=\"1\" class=\"dataframe\">\n",
       "  <thead>\n",
       "    <tr style=\"text-align: right;\">\n",
       "      <th></th>\n",
       "      <th>cafe_count</th>\n",
       "    </tr>\n",
       "  </thead>\n",
       "  <tbody>\n",
       "    <tr>\n",
       "      <th>count</th>\n",
       "      <td>736.000000</td>\n",
       "    </tr>\n",
       "    <tr>\n",
       "      <th>mean</th>\n",
       "      <td>1.692935</td>\n",
       "    </tr>\n",
       "    <tr>\n",
       "      <th>std</th>\n",
       "      <td>1.247912</td>\n",
       "    </tr>\n",
       "    <tr>\n",
       "      <th>min</th>\n",
       "      <td>1.000000</td>\n",
       "    </tr>\n",
       "    <tr>\n",
       "      <th>25%</th>\n",
       "      <td>1.000000</td>\n",
       "    </tr>\n",
       "    <tr>\n",
       "      <th>50%</th>\n",
       "      <td>1.000000</td>\n",
       "    </tr>\n",
       "    <tr>\n",
       "      <th>75%</th>\n",
       "      <td>2.000000</td>\n",
       "    </tr>\n",
       "    <tr>\n",
       "      <th>max</th>\n",
       "      <td>11.000000</td>\n",
       "    </tr>\n",
       "  </tbody>\n",
       "</table>\n",
       "</div>"
      ],
      "text/plain": [
       "       cafe_count\n",
       "count  736.000000\n",
       "mean     1.692935\n",
       "std      1.247912\n",
       "min      1.000000\n",
       "25%      1.000000\n",
       "50%      1.000000\n",
       "75%      2.000000\n",
       "max     11.000000"
      ]
     },
     "execution_count": 39,
     "metadata": {},
     "output_type": "execute_result"
    }
   ],
   "source": [
    "p50 = prod[prod['distance'] <= 50]\n",
    "cw_cafe_50 = p50.groupby('crosswalk_id').count().reset_index().iloc[:,:2]\n",
    "cw_cafe_50.columns = ['crosswalk_id', 'cafe_count']\n",
    "cw_cafe_50.to_csv('횡단보도_50미터_카페.csv', index = False, encoding = 'cp949')\n",
    "cw_cafe_50.describe()"
   ]
  },
  {
   "cell_type": "code",
   "execution_count": 43,
   "id": "953f28a2",
   "metadata": {},
   "outputs": [],
   "source": [
    "stabucks = prod[prod['cafe'].str.contains('스타벅스')]"
   ]
  },
  {
   "cell_type": "code",
   "execution_count": 44,
   "id": "9b09f75a",
   "metadata": {},
   "outputs": [],
   "source": [
    "# 거리가 가까운 순서대로 정렬\n",
    "p = stabucks.sort_values(by=['distance'])"
   ]
  },
  {
   "cell_type": "code",
   "execution_count": 47,
   "id": "5d27d444",
   "metadata": {},
   "outputs": [],
   "source": [
    "# 가장 가까운 값들로 저장\n",
    "pp = p.drop_duplicates(subset = 'crosswalk_id')[['crosswalk_id', 'cafe', 'distance', 'cafe_area']]"
   ]
  },
  {
   "cell_type": "code",
   "execution_count": 49,
   "id": "0a30337c",
   "metadata": {},
   "outputs": [],
   "source": [
    "pp.to_csv('횡단보도_가장가까운_스타벅스.csv', index = False, encoding = 'cp949')"
   ]
  },
  {
   "cell_type": "code",
   "execution_count": null,
   "id": "57834b27",
   "metadata": {},
   "outputs": [],
   "source": []
  }
 ],
 "metadata": {
  "kernelspec": {
   "display_name": "please",
   "language": "python",
   "name": "please"
  },
  "language_info": {
   "codemirror_mode": {
    "name": "ipython",
    "version": 3
   },
   "file_extension": ".py",
   "mimetype": "text/x-python",
   "name": "python",
   "nbconvert_exporter": "python",
   "pygments_lexer": "ipython3",
   "version": "3.7.13"
  }
 },
 "nbformat": 4,
 "nbformat_minor": 5
}
