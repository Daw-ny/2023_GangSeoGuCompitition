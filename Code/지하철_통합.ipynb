{
 "cells": [
  {
   "cell_type": "code",
   "execution_count": 1,
   "id": "b695e5b8",
   "metadata": {},
   "outputs": [],
   "source": [
    "# module\n",
    "import numpy as np\n",
    "import pandas as pd\n",
    "import tqdm\n",
    "from haversine import haversine\n",
    "from tqdm import tqdm_pandas, tqdm"
   ]
  },
  {
   "cell_type": "code",
   "execution_count": 2,
   "id": "cddf3899",
   "metadata": {},
   "outputs": [],
   "source": [
    "#load data\n",
    "tube18 = pd.read_csv('서울교통공사_1_8호선 역사 좌표(위경도) 정보_20211231.csv', encoding = 'cp949')\n",
    "tube9 = pd.read_csv('국가철도공단_수도권9호선_역위치_20221117.csv')\n",
    "fluid = pd.read_csv('서울시 지하철호선별 역별 승하차 인원 정보.csv', encoding = 'cp949')"
   ]
  },
  {
   "cell_type": "code",
   "execution_count": 3,
   "id": "e2a3af26",
   "metadata": {},
   "outputs": [
    {
     "name": "stderr",
     "output_type": "stream",
     "text": [
      "C:\\Users\\abc\\anaconda3\\envs\\please\\lib\\site-packages\\ipykernel_launcher.py:1: SettingWithCopyWarning: \n",
      "A value is trying to be set on a copy of a slice from a DataFrame\n",
      "\n",
      "See the caveats in the documentation: https://pandas.pydata.org/pandas-docs/stable/user_guide/indexing.html#returning-a-view-versus-a-copy\n",
      "  \"\"\"Entry point for launching an IPython kernel.\n"
     ]
    }
   ],
   "source": [
    "fluid['역명'][fluid['역명'] == '마곡나루(서울식물원)'] = '마곡나루'"
   ]
  },
  {
   "cell_type": "code",
   "execution_count": 4,
   "id": "411f0d05",
   "metadata": {},
   "outputs": [],
   "source": [
    "강서구5호선 = tube18[tube18['호선'] == 5].iloc[:9, :]"
   ]
  },
  {
   "cell_type": "code",
   "execution_count": 5,
   "id": "0a83cfe9",
   "metadata": {},
   "outputs": [],
   "source": [
    "강서구9호선 = tube9.iloc[:10, :]"
   ]
  },
  {
   "cell_type": "code",
   "execution_count": 6,
   "id": "1bfb8874",
   "metadata": {},
   "outputs": [],
   "source": [
    "유동인구 = fluid.groupby(['사용일자', '역명']).sum().reset_index()"
   ]
  },
  {
   "cell_type": "code",
   "execution_count": 7,
   "id": "53cdc7b1",
   "metadata": {},
   "outputs": [],
   "source": [
    "위치좌표 = pd.concat([강서구5호선[['역명', '위도', '경도']], 강서구9호선[['역명', '위도', '경도']]], axis = 0)"
   ]
  },
  {
   "cell_type": "code",
   "execution_count": 8,
   "id": "9cc2881f",
   "metadata": {},
   "outputs": [],
   "source": [
    "강서구지하철위치좌표 = 위치좌표.drop_duplicates(subset='역명', keep='last')"
   ]
  },
  {
   "cell_type": "code",
   "execution_count": 9,
   "id": "99ff8cc4",
   "metadata": {},
   "outputs": [],
   "source": [
    "유동인구평균 = 유동인구.groupby('역명').mean().reset_index()"
   ]
  },
  {
   "cell_type": "code",
   "execution_count": 10,
   "id": "3aaf3c05",
   "metadata": {},
   "outputs": [],
   "source": [
    "fluid_tube = pd.merge(강서구지하철위치좌표, 유동인구평균, how='left', on='역명')[['역명', '위도', '경도', '승차총승객수', '하차총승객수']]"
   ]
  },
  {
   "cell_type": "code",
   "execution_count": 11,
   "id": "ef3fcd47",
   "metadata": {},
   "outputs": [],
   "source": [
    "fluid_tube.to_csv('강서구_지하철_유동인구.csv', encoding = 'cp949', index = False)"
   ]
  }
 ],
 "metadata": {
  "kernelspec": {
   "display_name": "please",
   "language": "python",
   "name": "please"
  },
  "language_info": {
   "codemirror_mode": {
    "name": "ipython",
    "version": 3
   },
   "file_extension": ".py",
   "mimetype": "text/x-python",
   "name": "python",
   "nbconvert_exporter": "python",
   "pygments_lexer": "ipython3",
   "version": "3.7.13"
  }
 },
 "nbformat": 4,
 "nbformat_minor": 5
}
