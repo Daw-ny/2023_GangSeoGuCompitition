{
 "cells": [
  {
   "cell_type": "code",
   "execution_count": 2,
   "id": "aaf3d4c9",
   "metadata": {},
   "outputs": [],
   "source": [
    "# module\n",
    "import numpy as np\n",
    "import pandas as pd\n",
    "import tqdm\n",
    "from haversine import haversine\n",
    "from tqdm import tqdm_pandas, tqdm"
   ]
  },
  {
   "cell_type": "code",
   "execution_count": 6,
   "id": "f1ff14c9",
   "metadata": {},
   "outputs": [],
   "source": [
    "#load data\n",
    "cw = pd.read_csv('횡단보도_완료.csv')\n",
    "accademy = pd.read_csv('강서학원.csv')\n",
    "accademy2 = pd.read_csv('강서학원2.csv')"
   ]
  },
  {
   "cell_type": "code",
   "execution_count": 17,
   "id": "dd0b0614",
   "metadata": {},
   "outputs": [],
   "source": [
    "acca = pd.concat([accademy.dropna(), accademy2], axis = 0).reset_index().iloc[:,1:]"
   ]
  },
  {
   "cell_type": "code",
   "execution_count": 19,
   "id": "c4adddb5",
   "metadata": {},
   "outputs": [],
   "source": [
    "acca = acca[['학원명', 'Latitude', 'Longitude']] "
   ]
  },
  {
   "cell_type": "code",
   "execution_count": 20,
   "id": "c2d61509",
   "metadata": {},
   "outputs": [],
   "source": [
    "# 차 사고\n",
    "cw.columns = ['crosswalk_id', 'cw_lon', 'cw_lat']\n",
    "\n",
    "# 횡단보도\n",
    "acca.columns = ['accademy', 'ac_lat', 'ac_lon']"
   ]
  },
  {
   "cell_type": "code",
   "execution_count": 21,
   "id": "9ffc69bf",
   "metadata": {},
   "outputs": [
    {
     "name": "stderr",
     "output_type": "stream",
     "text": [
      "C:\\Users\\abc\\anaconda3\\envs\\please\\lib\\site-packages\\ipykernel_launcher.py:3: SettingWithCopyWarning: \n",
      "A value is trying to be set on a copy of a slice from a DataFrame.\n",
      "Try using .loc[row_indexer,col_indexer] = value instead\n",
      "\n",
      "See the caveats in the documentation: https://pandas.pydata.org/pandas-docs/stable/user_guide/indexing.html#returning-a-view-versus-a-copy\n",
      "  This is separate from the ipykernel package so we can avoid doing imports until\n"
     ]
    }
   ],
   "source": [
    "# key 만들기\n",
    "cw['key'] = 0\n",
    "acca['key'] = 0"
   ]
  },
  {
   "cell_type": "code",
   "execution_count": 22,
   "id": "28431194",
   "metadata": {},
   "outputs": [],
   "source": [
    "# 데이터 합치기\n",
    "prod = pd.merge(cw, acca, on = 'key', how = 'outer')"
   ]
  },
  {
   "cell_type": "code",
   "execution_count": 23,
   "id": "ade43b0c",
   "metadata": {},
   "outputs": [],
   "source": [
    "## 하버사인 거리\n",
    "lat1 = np.deg2rad(prod['cw_lat'])\n",
    "lat2 = np.deg2rad(prod['ac_lat'])\n",
    "lon1 = np.deg2rad(prod['cw_lon'])\n",
    "lon2 = np.deg2rad(prod['ac_lon'])\n",
    "dlat = lat2 - lat1 \n",
    "dlon = lon2 - lon1 \n",
    "a = np.sin(dlat/2)**2 + np.cos(lat1) * np.cos(lat2) * np.sin(dlon/2)**2\n",
    "c = 2 * np.arcsin(np.sqrt(a))"
   ]
  },
  {
   "cell_type": "code",
   "execution_count": 24,
   "id": "48702022",
   "metadata": {},
   "outputs": [],
   "source": [
    "# 미터거리 구하기\n",
    "prod['distance'] = c * 6371 * 1000"
   ]
  },
  {
   "cell_type": "code",
   "execution_count": 25,
   "id": "2c16acce",
   "metadata": {},
   "outputs": [
    {
     "data": {
      "text/plain": [
       "count    3.362634e+06\n",
       "mean     2.522955e+03\n",
       "std      1.358845e+03\n",
       "min      3.469479e+00\n",
       "25%      1.491314e+03\n",
       "50%      2.380174e+03\n",
       "75%      3.345092e+03\n",
       "max      8.714040e+03\n",
       "Name: distance, dtype: float64"
      ]
     },
     "execution_count": 25,
     "metadata": {},
     "output_type": "execute_result"
    }
   ],
   "source": [
    "# 상세한 확인\n",
    "prod['distance'].describe()"
   ]
  },
  {
   "cell_type": "code",
   "execution_count": 26,
   "id": "3cbd2b51",
   "metadata": {},
   "outputs": [
    {
     "data": {
      "text/html": [
       "<div>\n",
       "<style scoped>\n",
       "    .dataframe tbody tr th:only-of-type {\n",
       "        vertical-align: middle;\n",
       "    }\n",
       "\n",
       "    .dataframe tbody tr th {\n",
       "        vertical-align: top;\n",
       "    }\n",
       "\n",
       "    .dataframe thead th {\n",
       "        text-align: right;\n",
       "    }\n",
       "</style>\n",
       "<table border=\"1\" class=\"dataframe\">\n",
       "  <thead>\n",
       "    <tr style=\"text-align: right;\">\n",
       "      <th></th>\n",
       "      <th>acca_count</th>\n",
       "    </tr>\n",
       "  </thead>\n",
       "  <tbody>\n",
       "    <tr>\n",
       "      <th>count</th>\n",
       "      <td>1077.000000</td>\n",
       "    </tr>\n",
       "    <tr>\n",
       "      <th>mean</th>\n",
       "      <td>7.935933</td>\n",
       "    </tr>\n",
       "    <tr>\n",
       "      <th>std</th>\n",
       "      <td>14.349157</td>\n",
       "    </tr>\n",
       "    <tr>\n",
       "      <th>min</th>\n",
       "      <td>1.000000</td>\n",
       "    </tr>\n",
       "    <tr>\n",
       "      <th>25%</th>\n",
       "      <td>1.000000</td>\n",
       "    </tr>\n",
       "    <tr>\n",
       "      <th>50%</th>\n",
       "      <td>3.000000</td>\n",
       "    </tr>\n",
       "    <tr>\n",
       "      <th>75%</th>\n",
       "      <td>8.000000</td>\n",
       "    </tr>\n",
       "    <tr>\n",
       "      <th>max</th>\n",
       "      <td>108.000000</td>\n",
       "    </tr>\n",
       "  </tbody>\n",
       "</table>\n",
       "</div>"
      ],
      "text/plain": [
       "        acca_count\n",
       "count  1077.000000\n",
       "mean      7.935933\n",
       "std      14.349157\n",
       "min       1.000000\n",
       "25%       1.000000\n",
       "50%       3.000000\n",
       "75%       8.000000\n",
       "max     108.000000"
      ]
     },
     "execution_count": 26,
     "metadata": {},
     "output_type": "execute_result"
    }
   ],
   "source": [
    "p100 = prod[prod['distance'] <= 100]\n",
    "cw_acca_100 = p100.groupby('crosswalk_id').count().reset_index().iloc[:,:2]\n",
    "cw_acca_100.columns = ['crosswalk_id', 'acca_count']\n",
    "cw_acca_100.to_csv('횡단보도_100미터_학원.csv', index = False, encoding = 'cp949')\n",
    "cw_acca_100.describe()"
   ]
  },
  {
   "cell_type": "code",
   "execution_count": 27,
   "id": "f0d1d048",
   "metadata": {},
   "outputs": [
    {
     "data": {
      "text/html": [
       "<div>\n",
       "<style scoped>\n",
       "    .dataframe tbody tr th:only-of-type {\n",
       "        vertical-align: middle;\n",
       "    }\n",
       "\n",
       "    .dataframe tbody tr th {\n",
       "        vertical-align: top;\n",
       "    }\n",
       "\n",
       "    .dataframe thead th {\n",
       "        text-align: right;\n",
       "    }\n",
       "</style>\n",
       "<table border=\"1\" class=\"dataframe\">\n",
       "  <thead>\n",
       "    <tr style=\"text-align: right;\">\n",
       "      <th></th>\n",
       "      <th>acca_count</th>\n",
       "    </tr>\n",
       "  </thead>\n",
       "  <tbody>\n",
       "    <tr>\n",
       "      <th>count</th>\n",
       "      <td>544.000000</td>\n",
       "    </tr>\n",
       "    <tr>\n",
       "      <th>mean</th>\n",
       "      <td>4.426471</td>\n",
       "    </tr>\n",
       "    <tr>\n",
       "      <th>std</th>\n",
       "      <td>7.028626</td>\n",
       "    </tr>\n",
       "    <tr>\n",
       "      <th>min</th>\n",
       "      <td>1.000000</td>\n",
       "    </tr>\n",
       "    <tr>\n",
       "      <th>25%</th>\n",
       "      <td>1.000000</td>\n",
       "    </tr>\n",
       "    <tr>\n",
       "      <th>50%</th>\n",
       "      <td>2.000000</td>\n",
       "    </tr>\n",
       "    <tr>\n",
       "      <th>75%</th>\n",
       "      <td>5.000000</td>\n",
       "    </tr>\n",
       "    <tr>\n",
       "      <th>max</th>\n",
       "      <td>71.000000</td>\n",
       "    </tr>\n",
       "  </tbody>\n",
       "</table>\n",
       "</div>"
      ],
      "text/plain": [
       "       acca_count\n",
       "count  544.000000\n",
       "mean     4.426471\n",
       "std      7.028626\n",
       "min      1.000000\n",
       "25%      1.000000\n",
       "50%      2.000000\n",
       "75%      5.000000\n",
       "max     71.000000"
      ]
     },
     "execution_count": 27,
     "metadata": {},
     "output_type": "execute_result"
    }
   ],
   "source": [
    "p50 = prod[prod['distance'] <= 50]\n",
    "cw_acca_50 = p50.groupby('crosswalk_id').count().reset_index().iloc[:,:2]\n",
    "cw_acca_50.columns = ['crosswalk_id', 'acca_count']\n",
    "cw_acca_50.to_csv('횡단보도_50미터_학원.csv', index = False, encoding = 'cp949')\n",
    "cw_acca_50.describe()"
   ]
  }
 ],
 "metadata": {
  "kernelspec": {
   "display_name": "please",
   "language": "python",
   "name": "please"
  },
  "language_info": {
   "codemirror_mode": {
    "name": "ipython",
    "version": 3
   },
   "file_extension": ".py",
   "mimetype": "text/x-python",
   "name": "python",
   "nbconvert_exporter": "python",
   "pygments_lexer": "ipython3",
   "version": "3.7.13"
  }
 },
 "nbformat": 4,
 "nbformat_minor": 5
}
