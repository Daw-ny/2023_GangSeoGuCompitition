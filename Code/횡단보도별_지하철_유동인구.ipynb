{
 "cells": [
  {
   "cell_type": "code",
   "execution_count": 1,
   "id": "4583c0eb",
   "metadata": {},
   "outputs": [],
   "source": [
    "# module\n",
    "import numpy as np\n",
    "import pandas as pd\n",
    "import tqdm\n",
    "from haversine import haversine\n",
    "from tqdm import tqdm_pandas, tqdm"
   ]
  },
  {
   "cell_type": "code",
   "execution_count": 2,
   "id": "e5f10e71",
   "metadata": {},
   "outputs": [],
   "source": [
    "#load data\n",
    "cw = pd.read_csv('횡단보도_완료.csv', encoding = 'cp949')\n",
    "fluid = pd.read_csv('강서구_지하철_유동인구.csv', encoding = 'cp949')"
   ]
  },
  {
   "cell_type": "code",
   "execution_count": 3,
   "id": "9e146ed7",
   "metadata": {},
   "outputs": [
    {
     "data": {
      "text/html": [
       "<div>\n",
       "<style scoped>\n",
       "    .dataframe tbody tr th:only-of-type {\n",
       "        vertical-align: middle;\n",
       "    }\n",
       "\n",
       "    .dataframe tbody tr th {\n",
       "        vertical-align: top;\n",
       "    }\n",
       "\n",
       "    .dataframe thead th {\n",
       "        text-align: right;\n",
       "    }\n",
       "</style>\n",
       "<table border=\"1\" class=\"dataframe\">\n",
       "  <thead>\n",
       "    <tr style=\"text-align: right;\">\n",
       "      <th></th>\n",
       "      <th>역명</th>\n",
       "      <th>위도</th>\n",
       "      <th>경도</th>\n",
       "      <th>승차총승객수</th>\n",
       "      <th>하차총승객수</th>\n",
       "    </tr>\n",
       "  </thead>\n",
       "  <tbody>\n",
       "    <tr>\n",
       "      <th>0</th>\n",
       "      <td>방화</td>\n",
       "      <td>37.577669</td>\n",
       "      <td>126.812822</td>\n",
       "      <td>6402.487179</td>\n",
       "      <td>6107.538462</td>\n",
       "    </tr>\n",
       "    <tr>\n",
       "      <th>1</th>\n",
       "      <td>개화산</td>\n",
       "      <td>37.572458</td>\n",
       "      <td>126.806838</td>\n",
       "      <td>5385.230769</td>\n",
       "      <td>5159.564103</td>\n",
       "    </tr>\n",
       "    <tr>\n",
       "      <th>2</th>\n",
       "      <td>송정</td>\n",
       "      <td>37.561411</td>\n",
       "      <td>126.812052</td>\n",
       "      <td>6145.179487</td>\n",
       "      <td>5809.076923</td>\n",
       "    </tr>\n",
       "    <tr>\n",
       "      <th>3</th>\n",
       "      <td>마곡</td>\n",
       "      <td>37.562182</td>\n",
       "      <td>126.826930</td>\n",
       "      <td>9872.205128</td>\n",
       "      <td>9996.282051</td>\n",
       "    </tr>\n",
       "    <tr>\n",
       "      <th>4</th>\n",
       "      <td>발산</td>\n",
       "      <td>37.562182</td>\n",
       "      <td>126.826930</td>\n",
       "      <td>19879.820513</td>\n",
       "      <td>20772.974359</td>\n",
       "    </tr>\n",
       "    <tr>\n",
       "      <th>5</th>\n",
       "      <td>우장산</td>\n",
       "      <td>37.548864</td>\n",
       "      <td>126.836330</td>\n",
       "      <td>13611.076923</td>\n",
       "      <td>13370.076923</td>\n",
       "    </tr>\n",
       "    <tr>\n",
       "      <th>6</th>\n",
       "      <td>화곡</td>\n",
       "      <td>37.541585</td>\n",
       "      <td>126.840436</td>\n",
       "      <td>27246.282051</td>\n",
       "      <td>25422.128205</td>\n",
       "    </tr>\n",
       "    <tr>\n",
       "      <th>7</th>\n",
       "      <td>까치산</td>\n",
       "      <td>37.531810</td>\n",
       "      <td>126.846706</td>\n",
       "      <td>27313.358974</td>\n",
       "      <td>26170.256410</td>\n",
       "    </tr>\n",
       "    <tr>\n",
       "      <th>8</th>\n",
       "      <td>개화</td>\n",
       "      <td>37.578608</td>\n",
       "      <td>126.798153</td>\n",
       "      <td>2470.230769</td>\n",
       "      <td>1631.820513</td>\n",
       "    </tr>\n",
       "    <tr>\n",
       "      <th>9</th>\n",
       "      <td>김포공항</td>\n",
       "      <td>37.562434</td>\n",
       "      <td>126.801058</td>\n",
       "      <td>25718.538462</td>\n",
       "      <td>24021.153846</td>\n",
       "    </tr>\n",
       "    <tr>\n",
       "      <th>10</th>\n",
       "      <td>공항시장</td>\n",
       "      <td>37.563726</td>\n",
       "      <td>126.810678</td>\n",
       "      <td>2778.153846</td>\n",
       "      <td>2968.974359</td>\n",
       "    </tr>\n",
       "    <tr>\n",
       "      <th>11</th>\n",
       "      <td>신방화</td>\n",
       "      <td>37.567532</td>\n",
       "      <td>126.816601</td>\n",
       "      <td>6518.641026</td>\n",
       "      <td>6320.307692</td>\n",
       "    </tr>\n",
       "    <tr>\n",
       "      <th>12</th>\n",
       "      <td>마곡나루</td>\n",
       "      <td>37.567336</td>\n",
       "      <td>126.829497</td>\n",
       "      <td>21288.871795</td>\n",
       "      <td>20787.076923</td>\n",
       "    </tr>\n",
       "    <tr>\n",
       "      <th>13</th>\n",
       "      <td>양천향교</td>\n",
       "      <td>37.568381</td>\n",
       "      <td>126.841333</td>\n",
       "      <td>8965.923077</td>\n",
       "      <td>9118.794872</td>\n",
       "    </tr>\n",
       "    <tr>\n",
       "      <th>14</th>\n",
       "      <td>가양</td>\n",
       "      <td>37.561391</td>\n",
       "      <td>126.854456</td>\n",
       "      <td>20669.307692</td>\n",
       "      <td>20122.743590</td>\n",
       "    </tr>\n",
       "    <tr>\n",
       "      <th>15</th>\n",
       "      <td>증미</td>\n",
       "      <td>37.557402</td>\n",
       "      <td>126.861939</td>\n",
       "      <td>6634.128205</td>\n",
       "      <td>6262.128205</td>\n",
       "    </tr>\n",
       "    <tr>\n",
       "      <th>16</th>\n",
       "      <td>등촌</td>\n",
       "      <td>37.550632</td>\n",
       "      <td>126.865689</td>\n",
       "      <td>10748.333333</td>\n",
       "      <td>10268.076923</td>\n",
       "    </tr>\n",
       "    <tr>\n",
       "      <th>17</th>\n",
       "      <td>염창</td>\n",
       "      <td>37.546936</td>\n",
       "      <td>126.874916</td>\n",
       "      <td>16735.410256</td>\n",
       "      <td>16139.615385</td>\n",
       "    </tr>\n",
       "  </tbody>\n",
       "</table>\n",
       "</div>"
      ],
      "text/plain": [
       "      역명         위도          경도        승차총승객수        하차총승객수\n",
       "0     방화  37.577669  126.812822   6402.487179   6107.538462\n",
       "1    개화산  37.572458  126.806838   5385.230769   5159.564103\n",
       "2     송정  37.561411  126.812052   6145.179487   5809.076923\n",
       "3     마곡  37.562182  126.826930   9872.205128   9996.282051\n",
       "4     발산  37.562182  126.826930  19879.820513  20772.974359\n",
       "5    우장산  37.548864  126.836330  13611.076923  13370.076923\n",
       "6     화곡  37.541585  126.840436  27246.282051  25422.128205\n",
       "7    까치산  37.531810  126.846706  27313.358974  26170.256410\n",
       "8     개화  37.578608  126.798153   2470.230769   1631.820513\n",
       "9   김포공항  37.562434  126.801058  25718.538462  24021.153846\n",
       "10  공항시장  37.563726  126.810678   2778.153846   2968.974359\n",
       "11   신방화  37.567532  126.816601   6518.641026   6320.307692\n",
       "12  마곡나루  37.567336  126.829497  21288.871795  20787.076923\n",
       "13  양천향교  37.568381  126.841333   8965.923077   9118.794872\n",
       "14    가양  37.561391  126.854456  20669.307692  20122.743590\n",
       "15    증미  37.557402  126.861939   6634.128205   6262.128205\n",
       "16    등촌  37.550632  126.865689  10748.333333  10268.076923\n",
       "17    염창  37.546936  126.874916  16735.410256  16139.615385"
      ]
     },
     "execution_count": 3,
     "metadata": {},
     "output_type": "execute_result"
    }
   ],
   "source": [
    "fluid"
   ]
  },
  {
   "cell_type": "code",
   "execution_count": 4,
   "id": "443e2046",
   "metadata": {},
   "outputs": [],
   "source": [
    "# 차 사고\n",
    "cw.columns = ['crosswalk_id', 'cw_lat', 'cw_lon']\n",
    "\n",
    "# 횡단보도\n",
    "fluid.columns = ['tube', 'sub_lon', 'sub_lat', 'on', 'off']"
   ]
  },
  {
   "cell_type": "code",
   "execution_count": 5,
   "id": "f3d91b44",
   "metadata": {},
   "outputs": [],
   "source": [
    "# key 만들기\n",
    "cw['key'] = 0\n",
    "fluid['key'] = 0"
   ]
  },
  {
   "cell_type": "code",
   "execution_count": 6,
   "id": "f0d89400",
   "metadata": {},
   "outputs": [],
   "source": [
    "# 데이터 합치기\n",
    "prod = pd.merge(cw, fluid, on = 'key', how = 'outer')"
   ]
  },
  {
   "cell_type": "code",
   "execution_count": 7,
   "id": "2a957750",
   "metadata": {},
   "outputs": [],
   "source": [
    "## 하버사인 거리\n",
    "lat1 = np.deg2rad(prod['cw_lat'])\n",
    "lat2 = np.deg2rad(prod['sub_lat'])\n",
    "lon1 = np.deg2rad(prod['cw_lon'])\n",
    "lon2 = np.deg2rad(prod['sub_lon'])\n",
    "dlat = lat2 - lat1 \n",
    "dlon = lon2 - lon1 \n",
    "a = np.sin(dlat/2)**2 + np.cos(lat1) * np.cos(lat2) * np.sin(dlon/2)**2\n",
    "c = 2 * np.arcsin(np.sqrt(a))"
   ]
  },
  {
   "cell_type": "code",
   "execution_count": 8,
   "id": "a15cf542",
   "metadata": {},
   "outputs": [],
   "source": [
    "# 미터거리 구하기\n",
    "prod['distance'] = c * 6371 * 1000"
   ]
  },
  {
   "cell_type": "code",
   "execution_count": 9,
   "id": "a345ef3a",
   "metadata": {},
   "outputs": [
    {
     "data": {
      "text/plain": [
       "count    43956.000000\n",
       "mean      2965.212759\n",
       "std       1823.967437\n",
       "min          3.101408\n",
       "25%       1503.132426\n",
       "50%       2647.083469\n",
       "75%       4176.811197\n",
       "max       9167.508779\n",
       "Name: distance, dtype: float64"
      ]
     },
     "execution_count": 9,
     "metadata": {},
     "output_type": "execute_result"
    }
   ],
   "source": [
    "# 상세한 확인\n",
    "prod['distance'].describe()"
   ]
  },
  {
   "cell_type": "code",
   "execution_count": 10,
   "id": "8c550d99",
   "metadata": {},
   "outputs": [],
   "source": [
    "# 거리가 가까운 순서대로 정렬\n",
    "p = prod.sort_values(by=['distance'])"
   ]
  },
  {
   "cell_type": "code",
   "execution_count": 11,
   "id": "061bf501",
   "metadata": {},
   "outputs": [],
   "source": [
    "# 가장 가까운 값들로 저장\n",
    "pp = p.drop_duplicates(subset = 'crosswalk_id')[['crosswalk_id', 'tube', 'on', 'off', 'distance']]"
   ]
  },
  {
   "cell_type": "code",
   "execution_count": 12,
   "id": "f0867d98",
   "metadata": {},
   "outputs": [],
   "source": [
    "pp.to_csv('지하철유동인구_거리포함.csv', index = False, encoding = 'cp949')"
   ]
  },
  {
   "cell_type": "code",
   "execution_count": 13,
   "id": "473453b0",
   "metadata": {},
   "outputs": [
    {
     "data": {
      "text/plain": [
       "count    2442.000000\n",
       "mean      456.335783\n",
       "std       260.634602\n",
       "min         3.101408\n",
       "25%       266.709708\n",
       "50%       421.390078\n",
       "75%       620.739428\n",
       "max      1513.807853\n",
       "Name: distance, dtype: float64"
      ]
     },
     "execution_count": 13,
     "metadata": {},
     "output_type": "execute_result"
    }
   ],
   "source": [
    "pp['distance'].describe()"
   ]
  }
 ],
 "metadata": {
  "kernelspec": {
   "display_name": "please",
   "language": "python",
   "name": "please"
  },
  "language_info": {
   "codemirror_mode": {
    "name": "ipython",
    "version": 3
   },
   "file_extension": ".py",
   "mimetype": "text/x-python",
   "name": "python",
   "nbconvert_exporter": "python",
   "pygments_lexer": "ipython3",
   "version": "3.7.13"
  }
 },
 "nbformat": 4,
 "nbformat_minor": 5
}
