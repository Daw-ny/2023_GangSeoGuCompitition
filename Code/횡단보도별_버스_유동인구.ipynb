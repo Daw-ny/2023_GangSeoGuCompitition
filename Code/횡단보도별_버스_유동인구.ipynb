{
 "cells": [
  {
   "cell_type": "code",
   "execution_count": 1,
   "id": "4583c0eb",
   "metadata": {},
   "outputs": [],
   "source": [
    "# module\n",
    "import numpy as np\n",
    "import pandas as pd\n",
    "import tqdm\n",
    "from haversine import haversine\n",
    "from tqdm import tqdm_pandas, tqdm"
   ]
  },
  {
   "cell_type": "code",
   "execution_count": 2,
   "id": "e5f10e71",
   "metadata": {},
   "outputs": [],
   "source": [
    "#load data\n",
    "cw = pd.read_csv('횡단보도_완료.csv', encoding = 'cp949')\n",
    "fluid = pd.read_csv('버스좌표및승하차인원.csv', encoding = 'cp949')"
   ]
  },
  {
   "cell_type": "code",
   "execution_count": 3,
   "id": "9e146ed7",
   "metadata": {},
   "outputs": [],
   "source": [
    "fluid = fluid[['정류소명', 'Y좌표', 'X좌표', 'on_bus', 'off_bus']]"
   ]
  },
  {
   "cell_type": "code",
   "execution_count": 4,
   "id": "443e2046",
   "metadata": {},
   "outputs": [],
   "source": [
    "# 차 사고\n",
    "cw.columns = ['crosswalk_id', 'cw_lon', 'cw_lat']\n",
    "\n",
    "# 횡단보도\n",
    "fluid.columns = ['bus', 'sub_lat', 'sub_lon', 'on_bus', 'off_bus']"
   ]
  },
  {
   "cell_type": "code",
   "execution_count": 5,
   "id": "f3d91b44",
   "metadata": {},
   "outputs": [],
   "source": [
    "# key 만들기\n",
    "cw['key'] = 0\n",
    "fluid['key'] = 0"
   ]
  },
  {
   "cell_type": "code",
   "execution_count": 6,
   "id": "f0d89400",
   "metadata": {},
   "outputs": [],
   "source": [
    "# 데이터 합치기\n",
    "prod = pd.merge(cw, fluid, on = 'key', how = 'outer')"
   ]
  },
  {
   "cell_type": "code",
   "execution_count": 7,
   "id": "2a957750",
   "metadata": {},
   "outputs": [],
   "source": [
    "## 하버사인 거리\n",
    "lat1 = np.deg2rad(prod['cw_lat'])\n",
    "lat2 = np.deg2rad(prod['sub_lat'])\n",
    "lon1 = np.deg2rad(prod['cw_lon'])\n",
    "lon2 = np.deg2rad(prod['sub_lon'])\n",
    "dlat = lat2 - lat1 \n",
    "dlon = lon2 - lon1 \n",
    "a = np.sin(dlat/2)**2 + np.cos(lat1) * np.cos(lat2) * np.sin(dlon/2)**2\n",
    "c = 2 * np.arcsin(np.sqrt(a))"
   ]
  },
  {
   "cell_type": "code",
   "execution_count": 8,
   "id": "a15cf542",
   "metadata": {},
   "outputs": [],
   "source": [
    "# 미터거리 구하기\n",
    "prod['distance'] = c * 6371 * 1000"
   ]
  },
  {
   "cell_type": "code",
   "execution_count": 9,
   "id": "a345ef3a",
   "metadata": {},
   "outputs": [
    {
     "data": {
      "text/plain": [
       "count    2.600242e+07\n",
       "mean     1.494649e+04\n",
       "std      7.023483e+03\n",
       "min      1.131303e+00\n",
       "25%      9.357713e+03\n",
       "50%      1.491395e+04\n",
       "75%      2.049284e+04\n",
       "max      3.400875e+04\n",
       "Name: distance, dtype: float64"
      ]
     },
     "execution_count": 9,
     "metadata": {},
     "output_type": "execute_result"
    }
   ],
   "source": [
    "# 상세한 확인\n",
    "prod['distance'].describe()"
   ]
  },
  {
   "cell_type": "code",
   "execution_count": 10,
   "id": "8c550d99",
   "metadata": {},
   "outputs": [],
   "source": [
    "# 거리가 가까운 순서대로 정렬\n",
    "p = prod.sort_values(by=['distance'])"
   ]
  },
  {
   "cell_type": "code",
   "execution_count": 11,
   "id": "061bf501",
   "metadata": {},
   "outputs": [],
   "source": [
    "# 가장 가까운 값들로 저장\n",
    "pp = p.drop_duplicates(subset = 'crosswalk_id')[['crosswalk_id', 'bus', 'on_bus', 'off_bus', 'distance']]"
   ]
  },
  {
   "cell_type": "code",
   "execution_count": 12,
   "id": "f0867d98",
   "metadata": {},
   "outputs": [],
   "source": [
    "pp.to_csv('버스_유동인구_거리포함.csv', index = False, encoding = 'cp949')"
   ]
  },
  {
   "cell_type": "code",
   "execution_count": 13,
   "id": "473453b0",
   "metadata": {},
   "outputs": [
    {
     "data": {
      "text/plain": [
       "count    2442.000000\n",
       "mean       99.424461\n",
       "std        80.819625\n",
       "min         1.131303\n",
       "25%        42.309514\n",
       "50%        81.846217\n",
       "75%       136.187891\n",
       "max      1040.265502\n",
       "Name: distance, dtype: float64"
      ]
     },
     "execution_count": 13,
     "metadata": {},
     "output_type": "execute_result"
    }
   ],
   "source": [
    "pp['distance'].describe()"
   ]
  },
  {
   "cell_type": "code",
   "execution_count": 18,
   "id": "566adccd",
   "metadata": {},
   "outputs": [
    {
     "data": {
      "text/plain": [
       "340"
      ]
     },
     "execution_count": 18,
     "metadata": {},
     "output_type": "execute_result"
    }
   ],
   "source": [
    "pp['bus'].nunique()"
   ]
  },
  {
   "cell_type": "code",
   "execution_count": null,
   "id": "1de41425",
   "metadata": {},
   "outputs": [],
   "source": []
  }
 ],
 "metadata": {
  "kernelspec": {
   "display_name": "please",
   "language": "python",
   "name": "please"
  },
  "language_info": {
   "codemirror_mode": {
    "name": "ipython",
    "version": 3
   },
   "file_extension": ".py",
   "mimetype": "text/x-python",
   "name": "python",
   "nbconvert_exporter": "python",
   "pygments_lexer": "ipython3",
   "version": "3.7.13"
  }
 },
 "nbformat": 4,
 "nbformat_minor": 5
}
