{
 "cells": [
  {
   "cell_type": "markdown",
   "id": "669a55ba",
   "metadata": {},
   "source": [
    "# 무인단속카메라현황"
   ]
  },
  {
   "cell_type": "code",
   "execution_count": 1,
   "id": "cefa295b",
   "metadata": {},
   "outputs": [],
   "source": [
    "# module\n",
    "import pandas as pd\n",
    "import numpy as np\n",
    "import tqdm\n"
   ]
  },
  {
   "cell_type": "code",
   "execution_count": 4,
   "id": "278897eb",
   "metadata": {},
   "outputs": [],
   "source": [
    "# load data\n",
    "data = pd.read_csv('서울강서구무인교통단속카메라.csv', encoding = 'cp949')"
   ]
  },
  {
   "cell_type": "code",
   "execution_count": 5,
   "id": "371f9fa2",
   "metadata": {},
   "outputs": [
    {
     "data": {
      "text/plain": [
       "Index(['무인교통단속카메라관리번호', '시도명', '시군구명', '도로종류', '도로노선번호', '도로노선명', '도로노선방향',\n",
       "       '소재지도로명주소', '소재지지번주소', '위도', '경도', '설치장소', '단속구분', '제한속도', '단속구간위치구분',\n",
       "       '과속단속구간길이', '보호구역구분', '설치연도', '관리기관명', '관리기관전화번호', '데이터기준일자', '제공기관코드',\n",
       "       '제공기관명'],\n",
       "      dtype='object')"
      ]
     },
     "execution_count": 5,
     "metadata": {},
     "output_type": "execute_result"
    }
   ],
   "source": [
    "# 칼럼명\n",
    "data.columns"
   ]
  },
  {
   "cell_type": "code",
   "execution_count": 7,
   "id": "9dd27a36",
   "metadata": {},
   "outputs": [],
   "source": [
    "# 서울특별시 강서구\n",
    "data2 = data[(data['시도명'] == \"서울특별시\") & (data['시군구명'] == '강서구')]"
   ]
  },
  {
   "cell_type": "code",
   "execution_count": 8,
   "id": "fb09f69c",
   "metadata": {},
   "outputs": [],
   "source": [
    "# 저장\n",
    "data2.to_csv('무인단속_강서구_서울.csv', index = False)"
   ]
  }
 ],
 "metadata": {
  "kernelspec": {
   "display_name": "please",
   "language": "python",
   "name": "please"
  },
  "language_info": {
   "codemirror_mode": {
    "name": "ipython",
    "version": 3
   },
   "file_extension": ".py",
   "mimetype": "text/x-python",
   "name": "python",
   "nbconvert_exporter": "python",
   "pygments_lexer": "ipython3",
   "version": "3.7.13"
  }
 },
 "nbformat": 4,
 "nbformat_minor": 5
}
