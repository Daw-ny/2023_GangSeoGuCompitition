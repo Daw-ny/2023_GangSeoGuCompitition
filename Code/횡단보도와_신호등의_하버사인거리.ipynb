{
 "cells": [
  {
   "cell_type": "code",
   "execution_count": 1,
   "id": "170a771b",
   "metadata": {},
   "outputs": [],
   "source": [
    "# module\n",
    "import numpy as np\n",
    "import pandas as pd\n",
    "import tqdm\n",
    "from haversine import haversine\n",
    "from tqdm import tqdm_pandas, tqdm"
   ]
  },
  {
   "cell_type": "code",
   "execution_count": 2,
   "id": "9a8587a5",
   "metadata": {},
   "outputs": [],
   "source": [
    "#load data\n",
    "car = pd.read_csv('횡단보도_완료.csv')\n",
    "ped = pd.read_csv('서울교통공사_1_8호선 역사 좌표(위경도) 정보_20211231.csv', encoding = 'cp949')"
   ]
  },
  {
   "cell_type": "code",
   "execution_count": 3,
   "id": "4f78138f",
   "metadata": {},
   "outputs": [],
   "source": [
    "# 차 사고\n",
    "car.columns = ['crosswalk_id', 'car_lat', 'car_lon']\n",
    "\n",
    "# 횡단보도\n",
    "ped_xy = ped[['역명', '위도', '경도']]\n",
    "ped_xy.columns = ['tube', 'ped_lon', 'ped_lat']"
   ]
  },
  {
   "cell_type": "code",
   "execution_count": 4,
   "id": "f18f790d",
   "metadata": {},
   "outputs": [
    {
     "name": "stderr",
     "output_type": "stream",
     "text": [
      "C:\\Users\\abc\\anaconda3\\envs\\please\\lib\\site-packages\\ipykernel_launcher.py:2: SettingWithCopyWarning: \n",
      "A value is trying to be set on a copy of a slice from a DataFrame.\n",
      "Try using .loc[row_indexer,col_indexer] = value instead\n",
      "\n",
      "See the caveats in the documentation: https://pandas.pydata.org/pandas-docs/stable/user_guide/indexing.html#returning-a-view-versus-a-copy\n",
      "  \n"
     ]
    }
   ],
   "source": [
    "car['key'] = 0\n",
    "ped_xy['key'] = 0"
   ]
  },
  {
   "cell_type": "code",
   "execution_count": 5,
   "id": "32ec2b02",
   "metadata": {},
   "outputs": [],
   "source": [
    "prod = pd.merge(car, ped_xy, on = 'key', how = 'outer')"
   ]
  },
  {
   "cell_type": "code",
   "execution_count": 6,
   "id": "051eb4bf",
   "metadata": {},
   "outputs": [],
   "source": [
    "lat1 = np.deg2rad(prod['car_lat'])\n",
    "lat2 = np.deg2rad(prod['ped_lat'])\n",
    "lon1 = np.deg2rad(prod['car_lon'])\n",
    "lon2 = np.deg2rad(prod['ped_lon'])\n",
    "dlat = lat2 - lat1 \n",
    "dlon = lon2 - lon1 \n",
    "a = np.sin(dlat/2)**2 + np.cos(lat1) * np.cos(lat2) * np.sin(dlon/2)**2\n",
    "c = 2 * np.arcsin(np.sqrt(a))"
   ]
  },
  {
   "cell_type": "code",
   "execution_count": 7,
   "id": "2cb019dd",
   "metadata": {},
   "outputs": [],
   "source": [
    "prod['distance'] = c * 6371 * 1000"
   ]
  },
  {
   "cell_type": "code",
   "execution_count": 8,
   "id": "a18549c4",
   "metadata": {},
   "outputs": [
    {
     "data": {
      "text/plain": [
       "count    673992.000000\n",
       "mean      19707.395855\n",
       "std        9334.792510\n",
       "min          10.847642\n",
       "25%       12581.132502\n",
       "50%       19670.727168\n",
       "75%       26457.119083\n",
       "max       47463.291607\n",
       "Name: distance, dtype: float64"
      ]
     },
     "execution_count": 8,
     "metadata": {},
     "output_type": "execute_result"
    }
   ],
   "source": [
    "prod['distance'].describe()"
   ]
  },
  {
   "cell_type": "code",
   "execution_count": 9,
   "id": "0b6547d8",
   "metadata": {},
   "outputs": [],
   "source": [
    "prod2 = prod[prod['distance'] <= 500]"
   ]
  },
  {
   "cell_type": "code",
   "execution_count": 10,
   "id": "ab429471",
   "metadata": {},
   "outputs": [],
   "source": [
    "howmany = prod2.groupby('crosswalk_id').count().reset_index().iloc[:, 0:2]"
   ]
  },
  {
   "cell_type": "code",
   "execution_count": 11,
   "id": "b36cf8de",
   "metadata": {},
   "outputs": [
    {
     "data": {
      "text/html": [
       "<div>\n",
       "<style scoped>\n",
       "    .dataframe tbody tr th:only-of-type {\n",
       "        vertical-align: middle;\n",
       "    }\n",
       "\n",
       "    .dataframe tbody tr th {\n",
       "        vertical-align: top;\n",
       "    }\n",
       "\n",
       "    .dataframe thead th {\n",
       "        text-align: right;\n",
       "    }\n",
       "</style>\n",
       "<table border=\"1\" class=\"dataframe\">\n",
       "  <thead>\n",
       "    <tr style=\"text-align: right;\">\n",
       "      <th></th>\n",
       "      <th>crosswalk_id</th>\n",
       "      <th>car_lat</th>\n",
       "    </tr>\n",
       "  </thead>\n",
       "  <tbody>\n",
       "    <tr>\n",
       "      <th>0</th>\n",
       "      <td>06-0000000036</td>\n",
       "      <td>1</td>\n",
       "    </tr>\n",
       "    <tr>\n",
       "      <th>1</th>\n",
       "      <td>06-0000000037</td>\n",
       "      <td>1</td>\n",
       "    </tr>\n",
       "    <tr>\n",
       "      <th>2</th>\n",
       "      <td>06-0000000041</td>\n",
       "      <td>1</td>\n",
       "    </tr>\n",
       "    <tr>\n",
       "      <th>3</th>\n",
       "      <td>06-0000000042</td>\n",
       "      <td>1</td>\n",
       "    </tr>\n",
       "    <tr>\n",
       "      <th>4</th>\n",
       "      <td>06-0000000054</td>\n",
       "      <td>1</td>\n",
       "    </tr>\n",
       "    <tr>\n",
       "      <th>...</th>\n",
       "      <td>...</td>\n",
       "      <td>...</td>\n",
       "    </tr>\n",
       "    <tr>\n",
       "      <th>722</th>\n",
       "      <td>06-0000052770</td>\n",
       "      <td>1</td>\n",
       "    </tr>\n",
       "    <tr>\n",
       "      <th>723</th>\n",
       "      <td>06-0000052771</td>\n",
       "      <td>1</td>\n",
       "    </tr>\n",
       "    <tr>\n",
       "      <th>724</th>\n",
       "      <td>06-0000052819</td>\n",
       "      <td>1</td>\n",
       "    </tr>\n",
       "    <tr>\n",
       "      <th>725</th>\n",
       "      <td>06-0000052827</td>\n",
       "      <td>2</td>\n",
       "    </tr>\n",
       "    <tr>\n",
       "      <th>726</th>\n",
       "      <td>06-0000052828</td>\n",
       "      <td>2</td>\n",
       "    </tr>\n",
       "  </tbody>\n",
       "</table>\n",
       "<p>727 rows × 2 columns</p>\n",
       "</div>"
      ],
      "text/plain": [
       "      crosswalk_id  car_lat\n",
       "0    06-0000000036        1\n",
       "1    06-0000000037        1\n",
       "2    06-0000000041        1\n",
       "3    06-0000000042        1\n",
       "4    06-0000000054        1\n",
       "..             ...      ...\n",
       "722  06-0000052770        1\n",
       "723  06-0000052771        1\n",
       "724  06-0000052819        1\n",
       "725  06-0000052827        2\n",
       "726  06-0000052828        2\n",
       "\n",
       "[727 rows x 2 columns]"
      ]
     },
     "execution_count": 11,
     "metadata": {},
     "output_type": "execute_result"
    }
   ],
   "source": [
    "howmany"
   ]
  },
  {
   "cell_type": "code",
   "execution_count": 12,
   "id": "3ae873fb",
   "metadata": {},
   "outputs": [],
   "source": [
    "howmany.columns = ['crosswalk_id', 'count']"
   ]
  },
  {
   "cell_type": "code",
   "execution_count": 13,
   "id": "ca494b02",
   "metadata": {},
   "outputs": [
    {
     "data": {
      "text/html": [
       "<div>\n",
       "<style scoped>\n",
       "    .dataframe tbody tr th:only-of-type {\n",
       "        vertical-align: middle;\n",
       "    }\n",
       "\n",
       "    .dataframe tbody tr th {\n",
       "        vertical-align: top;\n",
       "    }\n",
       "\n",
       "    .dataframe thead th {\n",
       "        text-align: right;\n",
       "    }\n",
       "</style>\n",
       "<table border=\"1\" class=\"dataframe\">\n",
       "  <thead>\n",
       "    <tr style=\"text-align: right;\">\n",
       "      <th></th>\n",
       "      <th>count</th>\n",
       "    </tr>\n",
       "  </thead>\n",
       "  <tbody>\n",
       "    <tr>\n",
       "      <th>count</th>\n",
       "      <td>727.000000</td>\n",
       "    </tr>\n",
       "    <tr>\n",
       "      <th>mean</th>\n",
       "      <td>1.306740</td>\n",
       "    </tr>\n",
       "    <tr>\n",
       "      <th>std</th>\n",
       "      <td>0.461458</td>\n",
       "    </tr>\n",
       "    <tr>\n",
       "      <th>min</th>\n",
       "      <td>1.000000</td>\n",
       "    </tr>\n",
       "    <tr>\n",
       "      <th>25%</th>\n",
       "      <td>1.000000</td>\n",
       "    </tr>\n",
       "    <tr>\n",
       "      <th>50%</th>\n",
       "      <td>1.000000</td>\n",
       "    </tr>\n",
       "    <tr>\n",
       "      <th>75%</th>\n",
       "      <td>2.000000</td>\n",
       "    </tr>\n",
       "    <tr>\n",
       "      <th>max</th>\n",
       "      <td>2.000000</td>\n",
       "    </tr>\n",
       "  </tbody>\n",
       "</table>\n",
       "</div>"
      ],
      "text/plain": [
       "            count\n",
       "count  727.000000\n",
       "mean     1.306740\n",
       "std      0.461458\n",
       "min      1.000000\n",
       "25%      1.000000\n",
       "50%      1.000000\n",
       "75%      2.000000\n",
       "max      2.000000"
      ]
     },
     "execution_count": 13,
     "metadata": {},
     "output_type": "execute_result"
    }
   ],
   "source": [
    "howmany.describe()"
   ]
  },
  {
   "cell_type": "code",
   "execution_count": 14,
   "id": "57bef27c",
   "metadata": {},
   "outputs": [
    {
     "data": {
      "text/plain": [
       "950"
      ]
     },
     "execution_count": 14,
     "metadata": {},
     "output_type": "execute_result"
    }
   ],
   "source": [
    "sum(howmany['count'])"
   ]
  },
  {
   "cell_type": "code",
   "execution_count": null,
   "id": "d7ff7836",
   "metadata": {},
   "outputs": [],
   "source": []
  }
 ],
 "metadata": {
  "kernelspec": {
   "display_name": "please",
   "language": "python",
   "name": "please"
  },
  "language_info": {
   "codemirror_mode": {
    "name": "ipython",
    "version": 3
   },
   "file_extension": ".py",
   "mimetype": "text/x-python",
   "name": "python",
   "nbconvert_exporter": "python",
   "pygments_lexer": "ipython3",
   "version": "3.7.13"
  }
 },
 "nbformat": 4,
 "nbformat_minor": 5
}
