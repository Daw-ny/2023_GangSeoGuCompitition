{
 "cells": [
  {
   "cell_type": "markdown",
   "id": "5f572290",
   "metadata": {},
   "source": [
    "# 초단위 단속 데이터 전처리"
   ]
  },
  {
   "cell_type": "code",
   "execution_count": 1,
   "id": "d63fa773",
   "metadata": {},
   "outputs": [],
   "source": [
    "# module\n",
    "import numpy as np\n",
    "import pandas as pd\n",
    "import tqdm\n",
    "import requests\n",
    "\n",
    "# 주소찾기\n",
    "import time, random, re\n",
    "import requests\n",
    "from bs4 import BeautifulSoup\n",
    "from geopy.geocoders import Nominatim"
   ]
  },
  {
   "cell_type": "code",
   "execution_count": 2,
   "id": "f77704d5",
   "metadata": {},
   "outputs": [],
   "source": [
    "# load data\n",
    "data2020 = pd.read_csv('서울특별시_강서구_불법주정차단속자료_20201231.csv', encoding = 'cp949')\n",
    "data2021 = pd.read_csv('서울특별시_강서구_불법주정차단속자료_20211231.csv', encoding = 'cp949')"
   ]
  },
  {
   "cell_type": "code",
   "execution_count": 3,
   "id": "98631942",
   "metadata": {},
   "outputs": [],
   "source": [
    "# 데이터 합치기\n",
    "data = pd.concat([data2020, data2021], ignore_index = True)"
   ]
  },
  {
   "cell_type": "code",
   "execution_count": 4,
   "id": "48ae67ac",
   "metadata": {},
   "outputs": [],
   "source": [
    "# 앞에 서울특별시 강서구 붙이기\n",
    "data['단속장소'] = \"서울특별시 강서구 \" + data['단속장소'].str.replace('서울특별시 강서구', '').str.replace('서울 강서구', '')"
   ]
  },
  {
   "cell_type": "code",
   "execution_count": 5,
   "id": "bbc93dd7",
   "metadata": {},
   "outputs": [],
   "source": [
    "# 단속 장소에서 부근 또는 주변 제거\n",
    "data['단속장소'] = data['단속장소'].str.replace('부근', '').str.replace('주변', '').str.replace('오피스텔', '')"
   ]
  },
  {
   "cell_type": "code",
   "execution_count": 6,
   "id": "0b961eb1",
   "metadata": {},
   "outputs": [],
   "source": [
    "data2 = data.groupby(['단속장소']).count().reset_index().iloc[:, 0:2]"
   ]
  },
  {
   "cell_type": "code",
   "execution_count": 7,
   "id": "2d8cd5e9",
   "metadata": {
    "scrolled": true
   },
   "outputs": [],
   "source": [
    "address = pd.DataFrame(index=range(0,0), columns = {'도로명 주소','지번 주소', '단속장소', 'count'})\n",
    "address.columns = ['단속장소', 'count', '도로명주소', '지번주소']\n",
    "\n",
    "def apt_juso(keyword, juso_cnt, cnt):\n",
    "    ## 추출한 주소 저장할 엑셀 생성\n",
    "    theme_list = ['No', '우편번호', '도로명 주소', '도로명 영문주소', '지번 주소']\n",
    "\n",
    "    ## 주소 추출하기\n",
    "    headers = {\n",
    "    'User-Agent': 'Mozilla/5.0 (Windows NT 10.0; Win64; x64) AppleWebKit/537.36 (KHTML, like Gecko) Chrome/96.0.4664.110 Safari/537.36',\n",
    "    }\n",
    "\n",
    "    ext_cnt = 1 # int(juso_cnt//10) + 1\n",
    "    row = 2\n",
    "    for page in range(1, ext_cnt + 1):\n",
    "        url = f'https://www.juso.go.kr/support/AddressMainSearch.do?currentPage={page}&countPerPage=10&&searchType=\\\n",
    "        TOTAL&searchKeyword={keyword}&firstSort=none&ablYn=Y&synnYn=N'\n",
    "\n",
    "        res = requests.get(url, headers=headers)\n",
    "        soup = BeautifulSoup(res.text, 'html.parser')\n",
    "        ol_lis = soup.select('#searchAddress > div.container.support_search_list > div.search_list > ol > li')\n",
    "\n",
    "        for num, li in enumerate(ol_lis):\n",
    "            if num == 1:\n",
    "                break\n",
    "    \n",
    "            roed_juso = li.find('div', class_='subejct_1').find('span', class_='roadNameText').text\n",
    "            road = re.sub('&nbsp;|\\t|\\r|\\n', '', roed_juso).strip().replace('  ', ' ')\n",
    "            # print(f'\\n[{row-1}] 주소추출:\\n{road}')\n",
    "\n",
    "            road_eng = li.find('div', class_='addrEngInfo').find('span', class_='addrEng').text\n",
    "            eng_roadname = re.sub('&nbsp;|\\t|\\r|\\n', '', road_eng).strip().replace('  ', ' ')\n",
    "            # print(eng_roadname)                \n",
    "\n",
    "            jibeon_juso = li.find('div', class_='subejct_2').find('span', class_='roadNameText').text\n",
    "            jibeon = re.sub('&nbsp;|\\t|\\r|\\n', '', jibeon_juso).strip().replace('  ', ' ')\n",
    "            # print(jibeon)\n",
    "\n",
    "            zipcode = li.select_one('div.addrWrap > div.zipcode > div > strong').text\n",
    "            # print(zipcode)\n",
    "\n",
    "            btn = li.find('button', class_='btn_dtaddr_on')\n",
    "            \n",
    "        if ol_lis:\n",
    "            address.loc[len(address)] = [keyword, cnt, road, jibeon]\n",
    "        else:\n",
    "            address.loc[len(address)] = [keyword, cnt, \"no\", \"no\"]\n",
    "                \n",
    "        time.sleep(random.uniform(0.5, 1))"
   ]
  },
  {
   "cell_type": "code",
   "execution_count": 10,
   "id": "3713a9d8",
   "metadata": {},
   "outputs": [
    {
     "name": "stderr",
     "output_type": "stream",
     "text": [
      "23954it [7:34:21,  1.14s/it]\n"
     ]
    }
   ],
   "source": [
    "for j, k in tqdm.tqdm(zip(data2['단속장소'][2711:], data2['단속일'][2711:])):\n",
    "    apt_juso(j, 4, k)"
   ]
  },
  {
   "cell_type": "code",
   "execution_count": 24,
   "id": "093cf869",
   "metadata": {},
   "outputs": [],
   "source": [
    "address['도로명주소'] = address['도로명주소'].str.replace(u'\\xa0', u' ')"
   ]
  },
  {
   "cell_type": "code",
   "execution_count": 31,
   "id": "bbbfbdb9",
   "metadata": {},
   "outputs": [],
   "source": [
    "address.to_csv('불법주정차.csv', index = False, encoding = 'cp949')"
   ]
  },
  {
   "cell_type": "code",
   "execution_count": 30,
   "id": "12480481",
   "metadata": {},
   "outputs": [
    {
     "data": {
      "text/html": [
       "<div>\n",
       "<style scoped>\n",
       "    .dataframe tbody tr th:only-of-type {\n",
       "        vertical-align: middle;\n",
       "    }\n",
       "\n",
       "    .dataframe tbody tr th {\n",
       "        vertical-align: top;\n",
       "    }\n",
       "\n",
       "    .dataframe thead th {\n",
       "        text-align: right;\n",
       "    }\n",
       "</style>\n",
       "<table border=\"1\" class=\"dataframe\">\n",
       "  <thead>\n",
       "    <tr style=\"text-align: right;\">\n",
       "      <th></th>\n",
       "      <th>단속장소</th>\n",
       "      <th>count</th>\n",
       "      <th>도로명주소</th>\n",
       "      <th>지번주소</th>\n",
       "    </tr>\n",
       "  </thead>\n",
       "  <tbody>\n",
       "    <tr>\n",
       "      <th>0</th>\n",
       "      <td>서울특별시 강서구   강서로  화곡동941-1</td>\n",
       "      <td>1</td>\n",
       "      <td>no</td>\n",
       "      <td>no</td>\n",
       "    </tr>\n",
       "    <tr>\n",
       "      <th>1</th>\n",
       "      <td>서울특별시 강서구   강서로5나길  화곡동949-7</td>\n",
       "      <td>1</td>\n",
       "      <td>no</td>\n",
       "      <td>no</td>\n",
       "    </tr>\n",
       "    <tr>\n",
       "      <th>2</th>\n",
       "      <td>서울특별시 강서구  194-15</td>\n",
       "      <td>1</td>\n",
       "      <td>서울특별시 강서구 화곡로 194-15 (화곡동)</td>\n",
       "      <td>서울특별시 강서구 화곡동 98-238</td>\n",
       "    </tr>\n",
       "    <tr>\n",
       "      <th>3</th>\n",
       "      <td>서울특별시 강서구  5단지상가</td>\n",
       "      <td>1</td>\n",
       "      <td>no</td>\n",
       "      <td>no</td>\n",
       "    </tr>\n",
       "    <tr>\n",
       "      <th>4</th>\n",
       "      <td>서울특별시 강서구  가로공원로 173</td>\n",
       "      <td>17</td>\n",
       "      <td>서울특별시 강서구 가로공원로 173 (화곡동)</td>\n",
       "      <td>서울특별시 강서구 화곡동 377-42</td>\n",
       "    </tr>\n",
       "    <tr>\n",
       "      <th>...</th>\n",
       "      <td>...</td>\n",
       "      <td>...</td>\n",
       "      <td>...</td>\n",
       "      <td>...</td>\n",
       "    </tr>\n",
       "    <tr>\n",
       "      <th>26660</th>\n",
       "      <td>서울특별시 강서구 화골로63길96</td>\n",
       "      <td>1</td>\n",
       "      <td>no</td>\n",
       "      <td>no</td>\n",
       "    </tr>\n",
       "    <tr>\n",
       "      <th>26661</th>\n",
       "      <td>서울특별시 강서구 화일초교</td>\n",
       "      <td>207</td>\n",
       "      <td>서울특별시 강서구 까치산로10길 70 (화곡동)</td>\n",
       "      <td>서울특별시 강서구 화곡동 61-184 서울화일초등학교</td>\n",
       "    </tr>\n",
       "    <tr>\n",
       "      <th>26662</th>\n",
       "      <td>서울특별시 강서구 화일초등학교</td>\n",
       "      <td>397</td>\n",
       "      <td>서울특별시 강서구 까치산로10길 70 (화곡동)</td>\n",
       "      <td>서울특별시 강서구 화곡동 61-184 서울화일초등학교</td>\n",
       "    </tr>\n",
       "    <tr>\n",
       "      <th>26663</th>\n",
       "      <td>서울특별시 강서구 화천종합연구센터</td>\n",
       "      <td>3049</td>\n",
       "      <td>서울특별시 강서구 마곡중앙8로5길 2 (마곡동)</td>\n",
       "      <td>서울특별시 강서구 마곡동 792-8 화천종합연구센터</td>\n",
       "    </tr>\n",
       "    <tr>\n",
       "      <th>26664</th>\n",
       "      <td>서울특별시 강서구 힐스테이트에코</td>\n",
       "      <td>4995</td>\n",
       "      <td>서울특별시 강서구 공항대로 195 (마곡동)</td>\n",
       "      <td>서울특별시 강서구 마곡동 773-3 힐스테이트에코동익</td>\n",
       "    </tr>\n",
       "  </tbody>\n",
       "</table>\n",
       "<p>26665 rows × 4 columns</p>\n",
       "</div>"
      ],
      "text/plain": [
       "                               단속장소 count                       도로명주소  \\\n",
       "0         서울특별시 강서구   강서로  화곡동941-1     1                          no   \n",
       "1      서울특별시 강서구   강서로5나길  화곡동949-7     1                          no   \n",
       "2                 서울특별시 강서구  194-15     1  서울특별시 강서구 화곡로 194-15 (화곡동)   \n",
       "3                  서울특별시 강서구  5단지상가     1                          no   \n",
       "4              서울특별시 강서구  가로공원로 173    17   서울특별시 강서구 가로공원로 173 (화곡동)   \n",
       "...                             ...   ...                         ...   \n",
       "26660            서울특별시 강서구 화골로63길96     1                          no   \n",
       "26661               서울특별시 강서구 화일초교    207  서울특별시 강서구 까치산로10길 70 (화곡동)   \n",
       "26662              서울특별시 강서구 화일초등학교   397  서울특별시 강서구 까치산로10길 70 (화곡동)   \n",
       "26663            서울특별시 강서구 화천종합연구센터  3049  서울특별시 강서구 마곡중앙8로5길 2 (마곡동)   \n",
       "26664             서울특별시 강서구 힐스테이트에코  4995    서울특별시 강서구 공항대로 195 (마곡동)   \n",
       "\n",
       "                                지번주소  \n",
       "0                                 no  \n",
       "1                                 no  \n",
       "2               서울특별시 강서구 화곡동 98-238  \n",
       "3                                 no  \n",
       "4               서울특별시 강서구 화곡동 377-42  \n",
       "...                              ...  \n",
       "26660                             no  \n",
       "26661  서울특별시 강서구 화곡동 61-184 서울화일초등학교  \n",
       "26662  서울특별시 강서구 화곡동 61-184 서울화일초등학교  \n",
       "26663   서울특별시 강서구 마곡동 792-8 화천종합연구센터  \n",
       "26664  서울특별시 강서구 마곡동 773-3 힐스테이트에코동익  \n",
       "\n",
       "[26665 rows x 4 columns]"
      ]
     },
     "execution_count": 30,
     "metadata": {},
     "output_type": "execute_result"
    }
   ],
   "source": [
    "address"
   ]
  }
 ],
 "metadata": {
  "kernelspec": {
   "display_name": "please",
   "language": "python",
   "name": "please"
  },
  "language_info": {
   "codemirror_mode": {
    "name": "ipython",
    "version": 3
   },
   "file_extension": ".py",
   "mimetype": "text/x-python",
   "name": "python",
   "nbconvert_exporter": "python",
   "pygments_lexer": "ipython3",
   "version": "3.7.13"
  }
 },
 "nbformat": 4,
 "nbformat_minor": 5
}
