{
 "cells": [
  {
   "cell_type": "code",
   "execution_count": 1,
   "id": "a47c59e3",
   "metadata": {},
   "outputs": [],
   "source": [
    "# module\n",
    "import numpy as np\n",
    "import pandas as pd\n",
    "import tqdm\n",
    "from haversine import haversine\n",
    "from tqdm import tqdm_pandas, tqdm"
   ]
  },
  {
   "cell_type": "code",
   "execution_count": 2,
   "id": "9a6d5a2b",
   "metadata": {},
   "outputs": [],
   "source": [
    "#load data\n",
    "승하차 = pd.read_csv('서울시 버스노선별 정류장별 승하차 인원 정보.csv', encoding = 'cp949')\n",
    "위치 = pd.read_csv('서울시버스정류소좌표.csv')"
   ]
  },
  {
   "cell_type": "code",
   "execution_count": 3,
   "id": "ef314d04",
   "metadata": {},
   "outputs": [],
   "source": [
    "표준승하 = 승하차.groupby('표준버스정류장ID').mean().reset_index()[['표준버스정류장ID', '승차총승객수', '하차총승객수']]\n",
    "표준승하.columns = ['NODE_ID', 'on_bus', 'off_bus']"
   ]
  },
  {
   "cell_type": "code",
   "execution_count": 4,
   "id": "6baa53be",
   "metadata": {},
   "outputs": [],
   "source": [
    "없는거다빼 = pd.merge(위치, 표준승하, on = 'NODE_ID', how = 'left').dropna(axis = 0)"
   ]
  },
  {
   "cell_type": "code",
   "execution_count": 5,
   "id": "eae1159e",
   "metadata": {},
   "outputs": [],
   "source": [
    "없는거다빼.to_csv('버스좌표및승하차인원.csv', encoding = 'cp949', index = False)"
   ]
  }
 ],
 "metadata": {
  "kernelspec": {
   "display_name": "please",
   "language": "python",
   "name": "please"
  },
  "language_info": {
   "codemirror_mode": {
    "name": "ipython",
    "version": 3
   },
   "file_extension": ".py",
   "mimetype": "text/x-python",
   "name": "python",
   "nbconvert_exporter": "python",
   "pygments_lexer": "ipython3",
   "version": "3.7.13"
  }
 },
 "nbformat": 4,
 "nbformat_minor": 5
}
